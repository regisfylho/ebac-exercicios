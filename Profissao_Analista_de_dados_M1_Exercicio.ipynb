{
  "nbformat": 4,
  "nbformat_minor": 0,
  "metadata": {
    "colab": {
      "provenance": [],
      "toc_visible": true
    },
    "kernelspec": {
      "name": "python3",
      "display_name": "Python 3"
    }
  },
  "cells": [
    {
      "cell_type": "markdown",
      "metadata": {
        "id": "KJqp9AANOCtf"
      },
      "source": [
        "<img src=\"https://raw.githubusercontent.com/andre-marcos-perez/ebac-course-utils/main/media/logo/newebac_logo_black_half.png\" alt=\"ebac-logo\">\n",
        "\n",
        "---\n",
        "\n",
        "# **Módulo** | Python: Variáveis & Tipos de Dados\n",
        "Caderno de **Exercícios**<br>\n",
        "Professor [André Perez](https://www.linkedin.com/in/andremarcosperez/)\n",
        "\n",
        "---"
      ]
    },
    {
      "cell_type": "markdown",
      "metadata": {
        "id": "d9jDtUbDOE1-"
      },
      "source": [
        "# **Tópicos**\n",
        "\n",
        "<ol type=\"1\">\n",
        "  <li>Introdução ao Google Colab;</li>\n",
        "  <li>Variáveis;</li>\n",
        "  <li>Números;</li>\n",
        "  <li><i>Strings;</i></li>\n",
        "  <li>Boleanos.</li>\n",
        "</ol>"
      ]
    },
    {
      "cell_type": "markdown",
      "metadata": {
        "id": "SmoHgt-lwkpD"
      },
      "source": [
        "---"
      ]
    },
    {
      "cell_type": "markdown",
      "metadata": {
        "id": "GABI6OW8OfQ2"
      },
      "source": [
        "# **Exercícios**"
      ]
    },
    {
      "cell_type": "markdown",
      "metadata": {
        "id": "muD1vxozykSC"
      },
      "source": [
        "## 1\\. Google Colab"
      ]
    },
    {
      "cell_type": "markdown",
      "metadata": {
        "id": "ahrFfCuBxJKs"
      },
      "source": [
        "Crie uma célula de código que escreva o texto \"Olá mundo!\", utilize o comando `print`."
      ]
    },
    {
      "cell_type": "markdown",
      "metadata": {
        "id": "KI9zQRT2xa7m"
      },
      "source": [
        "Crie uma célua de texto e adicione uma imagem."
      ]
    },
    {
      "cell_type": "markdown",
      "metadata": {
        "id": "zMN1Q3jdwoJm"
      },
      "source": [
        "---"
      ]
    },
    {
      "cell_type": "code",
      "source": [
        "print('Olá,mundo!')"
      ],
      "metadata": {
        "colab": {
          "base_uri": "https://localhost:8080/"
        },
        "id": "LFoAj8W9iVya",
        "outputId": "ce3e4036-5abe-4f10-8cc7-474a386cc05a"
      },
      "execution_count": 1,
      "outputs": [
        {
          "output_type": "stream",
          "name": "stdout",
          "text": [
            "Olá,mundo!\n"
          ]
        }
      ]
    },
    {
      "cell_type": "markdown",
      "source": [
        "![download.jpg](data:image/jpeg;base64,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)"
      ],
      "metadata": {
        "id": "KeMg9tlHia6h"
      }
    },
    {
      "cell_type": "markdown",
      "metadata": {
        "id": "tFYOPLS3xiwe"
      },
      "source": [
        "## 2\\. Números"
      ]
    },
    {
      "cell_type": "markdown",
      "metadata": {
        "id": "O2G9gt7tx2c-"
      },
      "source": [
        "Preencha as células de código para preencher os valores de (A), (B) e (C) na tabela de ticket médio abaixo:\n",
        "\n",
        "<br>\n",
        "\n",
        "| Dia   | Valor Total Vendas | Qtd Total Vendas | Ticket Medio |\n",
        "|-------|--------------------|------------------|--------------|\n",
        "| 19/01 | (A)                | 3                | 320.52       |\n",
        "| 20/01 | 834.47             | (B)              | 119.21       |\n",
        "| 23/01 | 15378.12           | 5                | (C)          |"
      ]
    },
    {
      "cell_type": "code",
      "metadata": {
        "id": "nsrKH9EizNRD",
        "colab": {
          "base_uri": "https://localhost:8080/"
        },
        "outputId": "eadabe31-5fa4-4d62-a94e-b31617b00e99"
      },
      "source": [
        "# (A)\n",
        "a = 3 * 320.52\n",
        "print(a)"
      ],
      "execution_count": 5,
      "outputs": [
        {
          "output_type": "stream",
          "name": "stdout",
          "text": [
            "961.56\n"
          ]
        }
      ]
    },
    {
      "cell_type": "code",
      "metadata": {
        "id": "QQ1GBGHJzMmi",
        "colab": {
          "base_uri": "https://localhost:8080/"
        },
        "outputId": "0d5ac3b1-be39-4027-9280-9e710308a16a"
      },
      "source": [
        "# (B)\n",
        "b = 834.47/119.31\n",
        "print(b)"
      ],
      "execution_count": 3,
      "outputs": [
        {
          "output_type": "stream",
          "name": "stdout",
          "text": [
            "6.994132931020032\n"
          ]
        }
      ]
    },
    {
      "cell_type": "code",
      "metadata": {
        "id": "W-li0nSMzKNa",
        "colab": {
          "base_uri": "https://localhost:8080/"
        },
        "outputId": "a73a656b-8def-4ebf-9f36-926615ff9c42"
      },
      "source": [
        "# (C)\n",
        "c = 15378.12 / 5\n",
        "print(c)"
      ],
      "execution_count": 6,
      "outputs": [
        {
          "output_type": "stream",
          "name": "stdout",
          "text": [
            "3075.6240000000003\n"
          ]
        }
      ]
    },
    {
      "cell_type": "markdown",
      "metadata": {
        "id": "3eoP-Vj9yzh8"
      },
      "source": [
        "---"
      ]
    },
    {
      "cell_type": "markdown",
      "metadata": {
        "id": "yUJ6kdony6Pr"
      },
      "source": [
        "## 3\\. Strings"
      ]
    },
    {
      "cell_type": "markdown",
      "metadata": {
        "id": "KDuZpg-5zCvO"
      },
      "source": [
        "Aplique três métodos distintos na *string* abaixo, você pode conferir alguns métodos neste [link](https://www.w3schools.com/python/python_ref_string.asp):"
      ]
    },
    {
      "cell_type": "code",
      "metadata": {
        "id": "k9zbyf7BzjKj"
      },
      "source": [
        "cancao = 'Roda mundo, roda gigante, roda moinho, roda pião.'"
      ],
      "execution_count": 7,
      "outputs": []
    },
    {
      "cell_type": "code",
      "source": [
        "lista = cancao.split(',')\n",
        "print(lista)"
      ],
      "metadata": {
        "colab": {
          "base_uri": "https://localhost:8080/"
        },
        "id": "DsX9ESDUlHsJ",
        "outputId": "b0c5e53d-aabc-4222-c859-38abd55da829"
      },
      "execution_count": 8,
      "outputs": [
        {
          "output_type": "stream",
          "name": "stdout",
          "text": [
            "['Roda mundo', ' roda gigante', ' roda moinho', ' roda pião.']\n"
          ]
        }
      ]
    },
    {
      "cell_type": "code",
      "source": [
        "cancao_maiusculo = cancao.upper()\n",
        "print(cancao_maiusculo)"
      ],
      "metadata": {
        "colab": {
          "base_uri": "https://localhost:8080/"
        },
        "id": "XX9T5pTClrWC",
        "outputId": "a494ae89-18d9-4b70-ac3d-374cf63a2271"
      },
      "execution_count": 9,
      "outputs": [
        {
          "output_type": "stream",
          "name": "stdout",
          "text": [
            "RODA MUNDO, RODA GIGANTE, RODA MOINHO, RODA PIÃO.\n"
          ]
        }
      ]
    },
    {
      "cell_type": "code",
      "source": [
        "e_numerico = cancao.isnumeric()\n",
        "print(e_numerico)"
      ],
      "metadata": {
        "colab": {
          "base_uri": "https://localhost:8080/"
        },
        "id": "EyqonREml9yi",
        "outputId": "29bff24d-62d2-4598-e0ed-1406170d1f29"
      },
      "execution_count": 10,
      "outputs": [
        {
          "output_type": "stream",
          "name": "stdout",
          "text": [
            "False\n"
          ]
        }
      ]
    },
    {
      "cell_type": "markdown",
      "metadata": {
        "id": "guZMHXVq0FnC"
      },
      "source": [
        "Extraia da string abaixo o valor da taxa **selic** na variável `selic` e o valor do **ano** na variavel `ano`. Imprima os valores na tela."
      ]
    },
    {
      "cell_type": "code",
      "metadata": {
        "id": "cbx_P4IQ0agK",
        "colab": {
          "base_uri": "https://localhost:8080/"
        },
        "outputId": "6e1bdc2d-8b81-4563-de29-7030563ec087"
      },
      "source": [
        "noticia = 'Selic vai a 2,75% e supera expectativas; é a primeira alta em 6 anos.'\n",
        "selic = noticia[12:17]\n",
        "print(selic)\n"
      ],
      "execution_count": 16,
      "outputs": [
        {
          "output_type": "stream",
          "name": "stdout",
          "text": [
            "2,75%\n"
          ]
        }
      ]
    },
    {
      "cell_type": "code",
      "source": [
        "ano = noticia[-7:-1]\n",
        "print(ano)"
      ],
      "metadata": {
        "colab": {
          "base_uri": "https://localhost:8080/"
        },
        "id": "aXs6NQjZolvJ",
        "outputId": "ce14a56c-ff2f-462b-e2cc-c9aa8b38b9da"
      },
      "execution_count": 20,
      "outputs": [
        {
          "output_type": "stream",
          "name": "stdout",
          "text": [
            "6 anos\n"
          ]
        }
      ]
    },
    {
      "cell_type": "markdown",
      "metadata": {
        "id": "wWzbu-OC0z3L"
      },
      "source": [
        "---"
      ]
    },
    {
      "cell_type": "markdown",
      "metadata": {
        "id": "no8w_Ati01xP"
      },
      "source": [
        "## 4\\. Booleanos"
      ]
    },
    {
      "cell_type": "markdown",
      "metadata": {
        "id": "D_0tC3SC099N"
      },
      "source": [
        "Utilize a tabela da verdade para responder: qual o valor da variável x?"
      ]
    },
    {
      "cell_type": "code",
      "metadata": {
        "id": "XwIEbxf91SpU",
        "colab": {
          "base_uri": "https://localhost:8080/"
        },
        "outputId": "50d8e56f-6583-44a0-ca77-17f837bda403"
      },
      "source": [
        "a = False\n",
        "b = True\n",
        "\n",
        "x = not a & b\n",
        "print(x)"
      ],
      "execution_count": 24,
      "outputs": [
        {
          "output_type": "stream",
          "name": "stdout",
          "text": [
            "True\n"
          ]
        }
      ]
    }
  ]
}