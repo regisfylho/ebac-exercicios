{
  "nbformat": 4,
  "nbformat_minor": 0,
  "metadata": {
    "colab": {
      "provenance": [],
      "toc_visible": true
    },
    "kernelspec": {
      "name": "python3",
      "display_name": "Python 3"
    }
  },
  "cells": [
    {
      "cell_type": "markdown",
      "metadata": {
        "id": "KJqp9AANOCtf"
      },
      "source": [
        "<img src=\"https://raw.githubusercontent.com/andre-marcos-perez/ebac-course-utils/main/media/logo/newebac_logo_black_half.png\" alt=\"ebac-logo\">\n",
        "\n",
        "---\n",
        "\n",
        "# **Módulo** | Python: Estruturas de Dados\n",
        "Caderno de **Exercícios**<br>\n",
        "Professor [André Perez](https://www.linkedin.com/in/andremarcosperez/)\n",
        "\n",
        "---"
      ]
    },
    {
      "cell_type": "markdown",
      "metadata": {
        "id": "d9jDtUbDOE1-"
      },
      "source": [
        "# **Tópicos**\n",
        "\n",
        "<ol type=\"1\">\n",
        "  <li>Listas;</li>\n",
        "  <li>Conjuntos;</li>\n",
        "  <li>Dicionários.</li>\n",
        "</ol>"
      ]
    },
    {
      "cell_type": "markdown",
      "metadata": {
        "id": "SmoHgt-lwkpD"
      },
      "source": [
        "---"
      ]
    },
    {
      "cell_type": "markdown",
      "metadata": {
        "id": "GABI6OW8OfQ2"
      },
      "source": [
        "# **Exercícios**"
      ]
    },
    {
      "cell_type": "markdown",
      "metadata": {
        "id": "muD1vxozykSC"
      },
      "source": [
        "## 1\\. Listas"
      ]
    },
    {
      "cell_type": "markdown",
      "metadata": {
        "id": "ahrFfCuBxJKs"
      },
      "source": [
        "Criei uma lista chamada `filmes` com o nome dos 10 primeiros filmes mais bem avaliados no site no [IMDB](https://www.imdb.com/chart/top/). Imprima o resultado."
      ]
    },
    {
      "cell_type": "code",
      "metadata": {
        "id": "OgL6Hv3bzOHI"
      },
      "source": [
        "filmes = [' Um Sonho de Liberdade',' O Poderoso Chefão',' Batman - O Cavaleiro das Trevas',' O Poderoso Chefão II','12 Homens e uma Sentença',' A Lista de Schindler',' O Senhor dos Anéis: O Retorno do Rei',' Pulp Fiction - Tempo de Violência',' O Senhor dos Anéis: A Sociedade do Anel',' Três Homens em Conflito']"
      ],
      "execution_count": 10,
      "outputs": []
    },
    {
      "cell_type": "code",
      "source": [
        "print(filmes)"
      ],
      "metadata": {
        "colab": {
          "base_uri": "https://localhost:8080/"
        },
        "id": "jH3V2FPD-BFI",
        "outputId": "577c5c09-c205-4ab4-9ff1-fc44ef7f9c0e"
      },
      "execution_count": 11,
      "outputs": [
        {
          "output_type": "stream",
          "name": "stdout",
          "text": [
            "[' Um Sonho de Liberdade', ' O Poderoso Chefão', ' Batman - O Cavaleiro das Trevas', ' O Poderoso Chefão II', '12 Homens e uma Sentença', ' A Lista de Schindler', ' O Senhor dos Anéis: O Retorno do Rei', ' Pulp Fiction - Tempo de Violência', ' O Senhor dos Anéis: A Sociedade do Anel', ' Três Homens em Conflito']\n"
          ]
        }
      ]
    },
    {
      "cell_type": "markdown",
      "metadata": {
        "id": "KI9zQRT2xa7m"
      },
      "source": [
        "Simule a movimentação do *ranking*. Utilize os métodos `insert` e `pop` para trocar a posição do primeiro e do segundo filme da lista. Imprima o resultado.\n",
        "\n"
      ]
    },
    {
      "cell_type": "code",
      "metadata": {
        "id": "zX3mA3_GzrXH",
        "colab": {
          "base_uri": "https://localhost:8080/"
        },
        "outputId": "efee8d30-4014-4aec-ce5c-e53ff1790680"
      },
      "source": [
        "filme2 = filmes.pop(1)\n",
        "print(filme2)\n",
        "filmes.insert(0,filme2)\n",
        "print(filmes)\n"
      ],
      "execution_count": 12,
      "outputs": [
        {
          "output_type": "stream",
          "name": "stdout",
          "text": [
            " O Poderoso Chefão\n",
            "[' O Poderoso Chefão', ' Um Sonho de Liberdade', ' Batman - O Cavaleiro das Trevas', ' O Poderoso Chefão II', '12 Homens e uma Sentença', ' A Lista de Schindler', ' O Senhor dos Anéis: O Retorno do Rei', ' Pulp Fiction - Tempo de Violência', ' O Senhor dos Anéis: A Sociedade do Anel', ' Três Homens em Conflito']\n"
          ]
        }
      ]
    },
    {
      "cell_type": "markdown",
      "metadata": {
        "id": "zMN1Q3jdwoJm"
      },
      "source": [
        "---"
      ]
    },
    {
      "cell_type": "markdown",
      "metadata": {
        "id": "lxa5L6uF0ZJE"
      },
      "source": [
        "## 2\\. Conjuntos"
      ]
    },
    {
      "cell_type": "markdown",
      "metadata": {
        "id": "9JahS2Kj0d5u"
      },
      "source": [
        "Aconteceu um erro no seu *ranking*. Simule a duplicação dos três últimos filmes da lista. Imprima o resultado."
      ]
    },
    {
      "cell_type": "code",
      "metadata": {
        "id": "BnjnLBNC6PGe",
        "colab": {
          "base_uri": "https://localhost:8080/"
        },
        "outputId": "712fc3e9-476a-49fb-88df-7df145c04345"
      },
      "source": [
        "filmes = [' O Poderoso Chefão', ' Um Sonho de Liberdade', ' Batman - O Cavaleiro das Trevas', ' O Poderoso Chefão II', '12 Homens e uma Sentença', ' A Lista de Schindler', ' O Senhor dos Anéis: O Retorno do Rei', ' Pulp Fiction - Tempo de Violência', ' O Senhor dos Anéis: A Sociedade do Anel', ' Três Homens em Conflito', ' O Senhor dos Anéis: O Retorno do Rei', ' Pulp Fiction - Tempo de Violência', ' O Senhor dos Anéis: A Sociedade do Anel']\n",
        "print(filmes)\n",
        "print(len(filmes))"
      ],
      "execution_count": 17,
      "outputs": [
        {
          "output_type": "stream",
          "name": "stdout",
          "text": [
            "[' O Poderoso Chefão', ' Um Sonho de Liberdade', ' Batman - O Cavaleiro das Trevas', ' O Poderoso Chefão II', '12 Homens e uma Sentença', ' A Lista de Schindler', ' O Senhor dos Anéis: O Retorno do Rei', ' Pulp Fiction - Tempo de Violência', ' O Senhor dos Anéis: A Sociedade do Anel', ' Três Homens em Conflito', ' O Senhor dos Anéis: O Retorno do Rei', ' Pulp Fiction - Tempo de Violência', ' O Senhor dos Anéis: A Sociedade do Anel']\n",
            "13\n"
          ]
        }
      ]
    },
    {
      "cell_type": "markdown",
      "metadata": {
        "id": "suxTfCJB6ZiX"
      },
      "source": [
        "Utiliza a conversão `set` e `list` para remover os valores duplicados. Imprima o resultado."
      ]
    },
    {
      "cell_type": "code",
      "metadata": {
        "id": "ZvUGN-0n6joM",
        "colab": {
          "base_uri": "https://localhost:8080/"
        },
        "outputId": "309370ed-33f0-4a75-bbe7-79a3e5149c56"
      },
      "source": [
        "filmes = list(set(filmes))\n",
        "print(filmes)\n",
        "print(len(filmes))"
      ],
      "execution_count": 18,
      "outputs": [
        {
          "output_type": "stream",
          "name": "stdout",
          "text": [
            "[' O Poderoso Chefão', ' O Senhor dos Anéis: A Sociedade do Anel', ' O Senhor dos Anéis: O Retorno do Rei', ' O Poderoso Chefão II', ' Batman - O Cavaleiro das Trevas', '12 Homens e uma Sentença', ' Três Homens em Conflito', ' Pulp Fiction - Tempo de Violência', ' A Lista de Schindler', ' Um Sonho de Liberdade']\n",
            "10\n"
          ]
        }
      ]
    },
    {
      "cell_type": "markdown",
      "metadata": {
        "id": "ShkK35eQ6pAM"
      },
      "source": [
        "---"
      ]
    },
    {
      "cell_type": "markdown",
      "metadata": {
        "id": "EL_FzmxL6rTv"
      },
      "source": [
        "## 3\\. Dicionários"
      ]
    },
    {
      "cell_type": "markdown",
      "metadata": {
        "id": "i8l0gFqRCpfT"
      },
      "source": [
        "Repita os exercícios da parte 1 (listas). Os elementos da lista `filmes` devem ser dicionários no seguinte formato: `{'nome': <nome-do-filme>, 'ano': <ano do filme>, 'sinopse': <sinopse do filme>}`."
      ]
    },
    {
      "cell_type": "code",
      "metadata": {
        "id": "tu6MSFwGDnHv"
      },
      "source": [
        "filmes = {\n",
        "    'Um Sonho de Liberdade':{\n",
        "        'nome':'Um Sonho de Liberdade',\n",
        "        'ano': '1994',\n",
        "        'sinopse':'Dois homens presos se reúnem ao longo de vários anos, encontrando consolo e eventual redenção através de atos de decência comum.'\n",
        "    },\n",
        "    ' O Poderoso Chefão':{\n",
        "        'nome':' O Poderoso Chefão',\n",
        "        'ano': '1972',\n",
        "        'sinopse':'DO patriarca idoso de uma dinastia do crime organizado transfere o controle de seu império clandestino para seu filho relutante.'\n",
        "    },\n",
        "    ' Batman - O Cavaleiro das Trevas':{\n",
        "        'nome':' Batman - O Cavaleiro das Trevas',\n",
        "        'ano': '2008',\n",
        "        'sinopse':'''Agora com a ajuda do tenente Jim Gordon e do promotor público Harvey Dent, Batman tem tudo para banir o crime de Gotham City de uma vez por todas.\n",
        "         Mas em breve, os três serão vítimas do Coringa, que pretende lançar Gotham em uma anarquia.'''\n",
        "    },\n",
        "    'O Poderoso Chefão II':{\n",
        "        'nome':'O Poderoso Chefão II',\n",
        "        'ano': '1974',\n",
        "        'sinopse':'''Em 1950, Michael Corleone, agora à frente da família, tenta expandir o negócio do crime a Las Vegas, Los Angeles e Cuba. Paralelamente,\n",
        "         é revelada a história de Vito Corleone, e de como saiu da Sicília e chegou a Nova Iorque.'''\n",
        "    },\n",
        "    '12 Homens e uma Sentença':{\n",
        "        'nome':'12 Homens e uma Sentença',\n",
        "        'ano': '1957',\n",
        "        'sinopse':'O julgamento de um assassinato em Nova Iorque é frustrado por um único membro, cujo ceticismo força o júri a considerar cuidadosamente as evidências antes de dar o veredito.'\n",
        "    },\n",
        "    ' A Lista de Schindler':{\n",
        "        'nome':' A Lista de Schindler',\n",
        "        'ano': '1993',\n",
        "        'sinopse':'''Na Polônia ocupada pelos alemães durante a Segunda Guerra Mundial,\n",
        "         o industrial Oskar Schindler começa a ser preocupar com seus trabalhadores judeus depois de testemunhar sua perseguição pelos nazistas.'''\n",
        "    },\n",
        "    'O Senhor dos Anéis: O Retorno do Rei':{\n",
        "        'nome':'O Senhor dos Anéis: O Retorno do Rei',\n",
        "        'ano': '2003',\n",
        "        'sinopse':'Gandalf e Aragorn lideram o Mundo dos Homens contra o exército de Sauron para desviar o olhar de Frodo e Sam quando eles se aproximam á Montanha da Perdição com o Um Anel.'\n",
        "    },\n",
        "    'Pulp Fiction - Tempo de Violência':{\n",
        "        'nome':'Pulp Fiction - Tempo de Violência',\n",
        "        'ano': '1994',\n",
        "        'sinopse':'As vidas de dois assassinos da máfia, um boxeador, um gângster e sua esposa, e um par de bandidos se entrelaçam em quatro histórias de violência e redenção.'\n",
        "    },\n",
        "    'O Senhor dos Anéis: A Sociedade do Anel':{\n",
        "        'nome':'O Senhor dos Anéis: A Sociedade do Anel',\n",
        "        'ano': '2001',\n",
        "        'sinopse':'Um manso hobbit do Condado e oito companheiros partem em uma jornada para destruir o poderoso Um Anel e salvar a Terra-média das Trevas.'\n",
        "    },\n",
        "     'Três Homens em Conflito':{\n",
        "        'nome':'Três Homens em Conflito',\n",
        "        'ano': '1966',\n",
        "        'sinopse':'Um impostor se junta com dois homens para encontrar fortuna num remoto cemitério.'\n",
        "    }\n",
        "\n",
        "}"
      ],
      "execution_count": 22,
      "outputs": []
    },
    {
      "cell_type": "code",
      "source": [
        "print(filmes)"
      ],
      "metadata": {
        "colab": {
          "base_uri": "https://localhost:8080/"
        },
        "id": "xg2wWslsDHu5",
        "outputId": "8e5a9151-6fde-4730-ff0a-ee66438c8cdc"
      },
      "execution_count": 23,
      "outputs": [
        {
          "output_type": "stream",
          "name": "stdout",
          "text": [
            "{'Um Sonho de Liberdade': {'nome': 'Um Sonho de Liberdade', 'ano': '1994', 'sinopse': 'Dois homens presos se reúnem ao longo de vários anos, encontrando consolo e eventual redenção através de atos de decência comum.'}, ' O Poderoso Chefão': {'nome': ' O Poderoso Chefão', 'ano': '1972', 'sinopse': 'DO patriarca idoso de uma dinastia do crime organizado transfere o controle de seu império clandestino para seu filho relutante.'}, ' Batman - O Cavaleiro das Trevas': {'nome': ' Batman - O Cavaleiro das Trevas', 'ano': '2008', 'sinopse': 'Agora com a ajuda do tenente Jim Gordon e do promotor público Harvey Dent, Batman tem tudo para banir o crime de Gotham City de uma vez por todas.\\n         Mas em breve, os três serão vítimas do Coringa, que pretende lançar Gotham em uma anarquia.'}, 'O Poderoso Chefão II': {'nome': 'O Poderoso Chefão II', 'ano': '1974', 'sinopse': 'Em 1950, Michael Corleone, agora à frente da família, tenta expandir o negócio do crime a Las Vegas, Los Angeles e Cuba. Paralelamente,\\n         é revelada a história de Vito Corleone, e de como saiu da Sicília e chegou a Nova Iorque.'}, '12 Homens e uma Sentença': {'nome': '12 Homens e uma Sentença', 'ano': '1957', 'sinopse': 'O julgamento de um assassinato em Nova Iorque é frustrado por um único membro, cujo ceticismo força o júri a considerar cuidadosamente as evidências antes de dar o veredito.'}, ' A Lista de Schindler': {'nome': ' A Lista de Schindler', 'ano': '1993', 'sinopse': 'Na Polônia ocupada pelos alemães durante a Segunda Guerra Mundial,\\n         o industrial Oskar Schindler começa a ser preocupar com seus trabalhadores judeus depois de testemunhar sua perseguição pelos nazistas.'}, 'O Senhor dos Anéis: O Retorno do Rei': {'nome': 'O Senhor dos Anéis: O Retorno do Rei', 'ano': '2003', 'sinopse': 'Gandalf e Aragorn lideram o Mundo dos Homens contra o exército de Sauron para desviar o olhar de Frodo e Sam quando eles se aproximam á Montanha da Perdição com o Um Anel.'}, 'Pulp Fiction - Tempo de Violência': {'nome': 'Pulp Fiction - Tempo de Violência', 'ano': '1994', 'sinopse': 'As vidas de dois assassinos da máfia, um boxeador, um gângster e sua esposa, e um par de bandidos se entrelaçam em quatro histórias de violência e redenção.'}, 'O Senhor dos Anéis: A Sociedade do Anel': {'nome': 'O Senhor dos Anéis: A Sociedade do Anel', 'ano': '2001', 'sinopse': 'Um manso hobbit do Condado e oito companheiros partem em uma jornada para destruir o poderoso Um Anel e salvar a Terra-média das Trevas.'}, 'Três Homens em Conflito': {'nome': 'Três Homens em Conflito', 'ano': '1966', 'sinopse': 'Um impostor se junta com dois homens para encontrar fortuna num remoto cemitério.'}}\n"
          ]
        }
      ]
    }
  ]
}