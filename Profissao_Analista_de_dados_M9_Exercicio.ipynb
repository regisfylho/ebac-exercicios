{
  "nbformat": 4,
  "nbformat_minor": 0,
  "metadata": {
    "colab": {
      "provenance": []
    },
    "kernelspec": {
      "name": "python3",
      "display_name": "Python 3"
    }
  },
  "cells": [
    {
      "cell_type": "markdown",
      "metadata": {
        "id": "KJqp9AANOCtf"
      },
      "source": [
        "<img src=\"https://raw.githubusercontent.com/andre-marcos-perez/ebac-course-utils/main/media/logo/newebac_logo_black_half.png\" alt=\"ebac-logo\">\n",
        "\n",
        "---\n",
        "\n",
        "# **Módulo** | Python: Scripting\n",
        "Caderno de **Exercícios**<br>\n",
        "Professor [André Perez](https://www.linkedin.com/in/andremarcosperez/)\n",
        "\n",
        "---"
      ]
    },
    {
      "cell_type": "markdown",
      "metadata": {
        "id": "d9jDtUbDOE1-"
      },
      "source": [
        "# **Tópicos**\n",
        "\n",
        "<ol type=\"1\">\n",
        "  <li>Instalando o Python na própria máquina;</li>\n",
        "  <li>Executando código Python no terminal;</li>\n",
        "  <li>Criando arquivos de script Python.</li>\n",
        "</ol>"
      ]
    },
    {
      "cell_type": "markdown",
      "metadata": {
        "id": "SmoHgt-lwkpD"
      },
      "source": [
        "---"
      ]
    },
    {
      "cell_type": "markdown",
      "metadata": {
        "id": "GABI6OW8OfQ2"
      },
      "source": [
        "# **Exercícios**"
      ]
    },
    {
      "cell_type": "markdown",
      "metadata": {
        "id": "muD1vxozykSC"
      },
      "source": [
        "## 0\\. Preparando o ambiente"
      ]
    },
    {
      "cell_type": "markdown",
      "metadata": {
        "id": "4TT1IaG2DOuR"
      },
      "source": [
        " - Instalando o Python e o PIP na sua máquina."
      ]
    },
    {
      "cell_type": "markdown",
      "metadata": {
        "id": "eTI82AggBgY3"
      },
      "source": [
        "Nestes exercícios você vai precisar do Python (versão 3.x) e do PIP instalados na sua máquina. Abra o seu terminal (windows `cmd` ou linux/mcos `terminal`) e\n",
        "verifique se ambos estão instalados na sua máquina.\n",
        "\n",
        "```shell\n",
        "python -V # possível resultado: Python 3.8.5\n",
        "pip -V # possível resultado: pip 20.0.2 ...\n",
        "```\n",
        "\n",
        "Se pelo menos um dos softwares não estiver instalados na sua máquina, siga as instruções da aula para instala-los. Se você tiver enfrentando algum problema, entre em contato com o tutor."
      ]
    },
    {
      "cell_type": "markdown",
      "metadata": {
        "id": "PfJij-X6DS3o"
      },
      "source": [
        " - Instalando os pacotes necessários."
      ]
    },
    {
      "cell_type": "markdown",
      "metadata": {
        "id": "qfhQuCEaDb3H"
      },
      "source": [
        "Instale os pacotes necessários para conduzir os exercícios.\n",
        "\n",
        "```shell\n",
        "pip install pandas==1.2.4 seaborn==0.11.1 requests==2.25.1\n",
        "```"
      ]
    },
    {
      "cell_type": "markdown",
      "metadata": {
        "id": "zMN1Q3jdwoJm"
      },
      "source": [
        "---"
      ]
    },
    {
      "cell_type": "markdown",
      "metadata": {
        "id": "GWgNoJN8DHyY"
      },
      "source": [
        "## 1\\. Script de Extração"
      ]
    },
    {
      "cell_type": "markdown",
      "metadata": {
        "id": "YynK1vf2DHyj"
      },
      "source": [
        "O *script* para extrair a taxa CDI do site da B3 foi adaptado para ser executado 10 vezes para gerar nossa base de dados. Na sua máquina, crie o arquivo `extracao.py` com o `script` abaixo e execute-o com o comando:\n",
        "\n",
        "```shell\n",
        "python extracao.py\n",
        "```\n",
        "\n",
        "No final, você deve ter o arquivo `taxa-cdi.csv` com os dados extraídos."
      ]
    },
    {
      "cell_type": "code",
      "metadata": {
        "id": "hVK8QyFvE-wk",
        "colab": {
          "base_uri": "https://localhost:8080/"
        },
        "outputId": "bff9a2e5-39ef-4335-da7c-ad7b0cfab639"
      },
      "source": [
        "import os\n",
        "import time\n",
        "import json\n",
        "from random import random\n",
        "from datetime import datetime\n",
        "\n",
        "import requests\n",
        "\n",
        "URL = 'https://www2.cetip.com.br/ConsultarTaxaDi/ConsultarTaxaDICetip.aspx'\n",
        "\n",
        "# Criando a variável data e hora\n",
        "\n",
        "for _ in range(0, 10):\n",
        "\n",
        "  data_e_hora = datetime.now()\n",
        "  data = datetime.strftime(data_e_hora, '%Y/%m/%d')\n",
        "  hora = datetime.strftime(data_e_hora, '%H:%M:%S')\n",
        "\n",
        "  # Captando a taxa CDI do site da B3\n",
        "\n",
        "  try:\n",
        "    response = requests.get(URL)\n",
        "    response.raise_for_status()\n",
        "  except requests.HTTPError as exc:\n",
        "    print(\"Dado não encontrado, continuando.\")\n",
        "    cdi = None\n",
        "  except Exception as exc:\n",
        "    print(\"Erro, parando a execução.\")\n",
        "    raise exc\n",
        "  else:\n",
        "    dado = json.loads(response.text)\n",
        "    cdi = float(dado['taxa'].replace(',', '.')) + (random() - 0.5)\n",
        "\n",
        "  # Verificando se o arquivo \"taxa-cdi.csv\" existe\n",
        "\n",
        "  if os.path.exists('./taxa-cdi.csv') == False:\n",
        "\n",
        "    with open(file='./taxa-cdi.csv', mode='w', encoding='utf8') as fp:\n",
        "      fp.write('data,hora,taxa\\n')\n",
        "\n",
        "  # Salvando dados no arquivo \"taxa-cdi.csv\"\n",
        "\n",
        "  with open(file='./taxa-cdi.csv', mode='a', encoding='utf8') as fp:\n",
        "    fp.write(f'{data},{hora},{cdi}\\n')\n",
        "\n",
        "  time.sleep(2 + (random() - 0.5))\n",
        "\n",
        "print(\"Sucesso\")"
      ],
      "execution_count": null,
      "outputs": [
        {
          "output_type": "stream",
          "name": "stdout",
          "text": [
            "Sucesso\n"
          ]
        }
      ]
    },
    {
      "cell_type": "markdown",
      "metadata": {
        "id": "waxn4B2UDHyl"
      },
      "source": [
        "---"
      ]
    },
    {
      "cell_type": "markdown",
      "metadata": {
        "id": "finLQoyyGVmk"
      },
      "source": [
        "## 2\\. Script de Visualização"
      ]
    },
    {
      "cell_type": "markdown",
      "metadata": {
        "id": "99BrnqR4GVmy"
      },
      "source": [
        "Já o *script* para gerar um grafico da taxa CDI do site da B3 foi adaptado para utilizar o pacote Pandas. Na sua máquina, crie o arquivo `visualizacao.py` com o `script` abaixo e execute-o com o comando:\n",
        "\n",
        "```shell\n",
        "python visualizacao.py <nome-do-grafico>\n",
        "```\n",
        "\n",
        "O *script* espera um parametro de entrada com o nome do gráfico, portanto substitua o `<nome-do-grafico>` pelo nome do seu gráfico. No final, você deve ter uma imagem no formato png com o nome passado via parametro contendo a visualização dos dados gerados pelo *script* de extração.."
      ]
    },
    {
      "cell_type": "code",
      "metadata": {
        "id": "ozGsxHbPGVmz",
        "colab": {
          "base_uri": "https://localhost:8080/",
          "height": 533
        },
        "outputId": "ff604e65-1790-4f6d-c1da-675cf86f5925"
      },
      "source": [
        "import csv\n",
        "from sys import argv\n",
        "\n",
        "import pandas as pd\n",
        "import seaborn as sns\n",
        "\n",
        "# Extraindo as colunas hora e taxa\n",
        "\n",
        "df = pd.read_csv('./taxa-cdi.csv')\n",
        "\n",
        "# Salvando no grafico\n",
        "\n",
        "grafico = sns.lineplot(x=df['hora'], y=df['taxa'])\n",
        "_ = grafico.set_xticklabels(labels=df['hora'], rotation=90)\n",
        "grafico.get_figure().savefig(f\"{argv[1]}.png\")\n"
      ],
      "execution_count": null,
      "outputs": [
        {
          "output_type": "stream",
          "name": "stderr",
          "text": [
            "<ipython-input-5-04381e656c0b>:14: UserWarning: FixedFormatter should only be used together with FixedLocator\n",
            "  _ = grafico.set_xticklabels(labels=df['hora'], rotation=90)\n"
          ]
        },
        {
          "output_type": "display_data",
          "data": {
            "text/plain": [
              "<Figure size 640x480 with 1 Axes>"
            ],
            "image/png": "[encoded data removed]"
          },
          "metadata": {}
        }
      ]
    },
    {
      "cell_type": "markdown",
      "metadata": {
        "id": "As3enQc2GVm1"
      },
      "source": [
        "---"
      ]
    },
    {
      "cell_type": "markdown",
      "metadata": {
        "id": "SS1PxxfHILHs"
      },
      "source": [
        "## 3\\. Combinando os scripts de extração e visualização."
      ]
    },
    {
      "cell_type": "markdown",
      "metadata": {
        "id": "R4hMJ6D2ILH3"
      },
      "source": [
        "Combine os *scripts* `visualizacao.py` e `extracao.py` no arquivo `analise.py` e execute-o na sua máquina, ele deve retornar os mesmos resultados: o arquivo csv e a imagem no formato png com o título escolhido via parametro de entrada. Procure seguir a organização proposta na aula (PEP8).\n",
        "\n",
        "```shell\n",
        "python analise.py <nome-do-grafico>\n",
        "```\n",
        "\n",
        "Além disso, copie o código na célula abaixo para que o tutor possa avaliar seu exercícios."
      ]
    },
    {
      "cell_type": "code",
      "metadata": {
        "id": "ogZClDvTILH3"
      },
      "source": [
        "# combinação dos scripts de extração e visualização\n",
        "import os ,time, json ,csv\n",
        "from random import random\n",
        "from datetime import datetime\n",
        "from sys import argv\n",
        "\n",
        "import requests\n",
        "import pandas as pd\n",
        "import seaborn as sns\n",
        "\n",
        "URL = 'https://www2.cetip.com.br/ConsultarTaxaDi/ConsultarTaxaDICetip.aspx'\n",
        "\n",
        "# Criando a variável data e hora\n",
        "\n",
        "for _ in range(0, 10):\n",
        "\n",
        "  data_e_hora = datetime.now()\n",
        "  data = datetime.strftime(data_e_hora, '%Y/%m/%d')\n",
        "  hora = datetime.strftime(data_e_hora, '%H:%M:%S')\n",
        "\n",
        "  # Captando a taxa CDI do site da B3\n",
        "\n",
        "  try:\n",
        "    response = requests.get(URL)\n",
        "    response.raise_for_status()\n",
        "  except requests.HTTPError as exc:\n",
        "    print(\"Dado não encontrado, continuando.\")\n",
        "    cdi = None\n",
        "  except Exception as exc:\n",
        "    print(\"Erro, parando a execução.\")\n",
        "    raise exc\n",
        "  else:\n",
        "    dado = json.loads(response.text)\n",
        "    cdi = float(dado['taxa'].replace(',', '.')) + (random() - 0.5)\n",
        "\n",
        "  # Verificando se o arquivo \"taxa-cdi.csv\" existe\n",
        "\n",
        "  if os.path.exists('./taxa-cdi.csv') == False:\n",
        "\n",
        "    with open(file='./taxa-cdi.csv', mode='w', encoding='utf8') as fp:\n",
        "      fp.write('data,hora,taxa\\n')\n",
        "\n",
        "  # Salvando dados no arquivo \"taxa-cdi.csv\"\n",
        "\n",
        "  with open(file='./taxa-cdi.csv', mode='a', encoding='utf8') as fp:\n",
        "    fp.write(f'{data},{hora},{cdi}\\n')\n",
        "\n",
        "  time.sleep(2 + (random() - 0.5))\n",
        "\n",
        "\n",
        "\n",
        "  # Extraindo as colunas hora e taxa\n",
        "\n",
        "df = pd.read_csv('./taxa-cdi.csv')\n",
        "\n",
        "# Salvando no grafico\n",
        "\n",
        "grafico = sns.lineplot(x=df['hora'], y=df['taxa'])\n",
        "_ = grafico.set_xticklabels(labels=df['hora'], rotation=90)\n",
        "grafico.get_figure().savefig(f\"{argv[1]}.png\")\n",
        "\n",
        "\n",
        "print(\"Sucesso\")"
      ],
      "execution_count": null,
      "outputs": []
    },
    {
      "cell_type": "code",
      "source": [
        "!python analise.py analise02\n"
      ],
      "metadata": {
        "colab": {
          "base_uri": "https://localhost:8080/"
        },
        "id": "LvLn-niTFZJ1",
        "outputId": "1702c9ca-f235-4988-de99-8a95d4e62825"
      },
      "execution_count": null,
      "outputs": [
        {
          "output_type": "stream",
          "name": "stdout",
          "text": [
            "/content/analise.py:62: UserWarning: FixedFormatter should only be used together with FixedLocator\n",
            "  _ = grafico.set_xticklabels(labels=df['hora'], rotation=90)\n",
            "Sucesso\n"
          ]
        }
      ]
    },
    {
      "cell_type": "markdown",
      "metadata": {
        "id": "Fx--J2bOILH4"
      },
      "source": [
        "---"
      ]
    }
  ]
}